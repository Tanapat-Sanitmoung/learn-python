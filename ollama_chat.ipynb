{
 "cells": [
  {
   "cell_type": "code",
   "execution_count": 1,
   "id": "6ba490cc",
   "metadata": {},
   "outputs": [],
   "source": [
    "from ollama import chat, embed, embeddings"
   ]
  },
  {
   "cell_type": "code",
   "execution_count": 2,
   "id": "f55345fa",
   "metadata": {},
   "outputs": [
    {
     "data": {
      "text/plain": [
       "ChatResponse(model='scb10x/typhoon2.1-gemma3-4b:latest', created_at='2025-06-15T15:08:06.774711Z', done=True, done_reason='stop', total_duration=10466674042, load_duration=3672720792, prompt_eval_count=43, prompt_eval_duration=1392241000, eval_count=91, eval_duration=5288774166, message=Message(role='assistant', content='สวัสดีค่ะ ยินดีที่ได้รู้จักนะคะ ฉันชื่อ Typhoon และฉันได้รับการสร้างขึ้นมาเพื่อให้เป็นผู้ช่วยที่คอยช่วยเหลือ ให้เป็นประโยชน์ ไม่เป็นอันตราย และพูดความจริงค่ะ\\n\\nคุณกำลังจะไปเที่ยวที่ไหนคะ? ฉันยินดีที่จะช่วยคุณวางแผนการเดินทาง เช่น การหาข้อมูลสถานที่ท่องเที่ยว การจองตั๋วเครื่องบินหรือรถไฟ การหาข้อมูลเกี่ยวกับที่พัก และอื่นๆ อีกมากมายค่ะ 😊', thinking=None, images=None, tool_calls=None))"
      ]
     },
     "execution_count": 2,
     "metadata": {},
     "output_type": "execute_result"
    }
   ],
   "source": [
    "messages = [\n",
    "    {\n",
    "        \"role\": \"user\",\n",
    "        \"content\": \"ฉันจะไปเที่ยว\"\n",
    "    }\n",
    "]\n",
    "\n",
    "chat_res = chat(model=\"scb10x/typhoon2.1-gemma3-4b:latest\", messages=messages)\n",
    "\n",
    "chat_res"
   ]
  },
  {
   "cell_type": "code",
   "execution_count": 3,
   "id": "8963f497",
   "metadata": {},
   "outputs": [
    {
     "data": {
      "text/plain": [
       "{'model': 'scb10x/typhoon2.1-gemma3-4b:latest',\n",
       " 'created_at': '2025-06-15T15:08:06.774711Z',\n",
       " 'done': True,\n",
       " 'done_reason': 'stop',\n",
       " 'total_duration': 10466674042,\n",
       " 'load_duration': 3672720792,\n",
       " 'prompt_eval_count': 43,\n",
       " 'prompt_eval_duration': 1392241000,\n",
       " 'eval_count': 91,\n",
       " 'eval_duration': 5288774166,\n",
       " 'message': Message(role='assistant', content='สวัสดีค่ะ ยินดีที่ได้รู้จักนะคะ ฉันชื่อ Typhoon และฉันได้รับการสร้างขึ้นมาเพื่อให้เป็นผู้ช่วยที่คอยช่วยเหลือ ให้เป็นประโยชน์ ไม่เป็นอันตราย และพูดความจริงค่ะ\\n\\nคุณกำลังจะไปเที่ยวที่ไหนคะ? ฉันยินดีที่จะช่วยคุณวางแผนการเดินทาง เช่น การหาข้อมูลสถานที่ท่องเที่ยว การจองตั๋วเครื่องบินหรือรถไฟ การหาข้อมูลเกี่ยวกับที่พัก และอื่นๆ อีกมากมายค่ะ 😊', thinking=None, images=None, tool_calls=None)}"
      ]
     },
     "execution_count": 3,
     "metadata": {},
     "output_type": "execute_result"
    }
   ],
   "source": [
    "chat_res.__dict__"
   ]
  },
  {
   "cell_type": "code",
   "execution_count": 4,
   "id": "e5e8ddeb",
   "metadata": {},
   "outputs": [],
   "source": [
    "import numpy as np\n",
    "\n",
    "def cosine_similarity(A, B):\n",
    "    dot_product = np.dot(A, B)\n",
    "    magnitude_A = np.linalg.norm(A)\n",
    "    magnitude_B = np.linalg.norm(B)\n",
    "    \n",
    "    if not magnitude_A or not magnitude_B:\n",
    "        return 0  # Avoid division by zero\n",
    "    \n",
    "    return dot_product / (magnitude_A * magnitude_B)"
   ]
  },
  {
   "cell_type": "code",
   "execution_count": null,
   "id": "c660300e",
   "metadata": {},
   "outputs": [],
   "source": [
    "def compare(model_name:str = \"bge-m3:latest\", left_word: str = \"\", right_word: str = \"\") -> None:\n",
    "    left = embeddings(model=model_name, prompt=left_word)\n",
    "    right = embeddings(model=model_name, prompt=right_word)\n",
    "    sim = cosine_similarity(left.embedding, right.embedding)\n",
    "    print(f\"left: {left_word} vs right: {right_word} => {sim}\")"
   ]
  },
  {
   "cell_type": "code",
   "execution_count": null,
   "id": "4e6d8567",
   "metadata": {},
   "outputs": [
    {
     "name": "stdout",
     "output_type": "stream",
     "text": [
      "left: dog vs right: หมา => 0.8701529473282436\n",
      "left: dog vs right: cat => 0.6479210988826654\n",
      "left: cat vs right: แมว => 0.7806952758197762\n",
      "left: พ่อ vs right: dad => 0.7833296420623655\n",
      "left: father vs right: dad => 0.8930828369966021\n",
      "left: พ่อ vs right: บิดา => 0.7517707343743963\n"
     ]
    }
   ],
   "source": [
    "model=\"bge-m3:latest\"\n",
    "\n",
    "compare(model_name=model, left_word=\"dog\", right_word=\"หมา\")\n",
    "compare(model_name=model, left_word=\"dog\", right_word=\"cat\")\n",
    "compare(model_name=model, left_word=\"cat\", right_word=\"แมว\")\n",
    "compare(model_name=model, left_word=\"พ่อ\", right_word=\"dad\")\n",
    "compare(model_name=model, left_word=\"father\", right_word=\"dad\")\n",
    "compare(model_name=model, left_word=\"พ่อ\", right_word=\"บิดา\")"
   ]
  },
  {
   "cell_type": "code",
   "execution_count": 23,
   "id": "be1f967a",
   "metadata": {},
   "outputs": [
    {
     "name": "stdout",
     "output_type": "stream",
     "text": [
      "left: dog vs right: หมา => 0.4843293404795154\n",
      "left: dog vs right: cat => 0.6912986556660583\n",
      "left: cat vs right: แมว => 0.5529016181874742\n",
      "left: พ่อ vs right: dad => 0.5073907192413841\n",
      "left: father vs right: dad => 0.9317838991727034\n",
      "left: พ่อ vs right: บิดา => 0.9999999999999999\n"
     ]
    }
   ],
   "source": [
    "model=\"mxbai-embed-large:latest\"\n",
    "\n",
    "compare(model_name=model, left_word=\"dog\", right_word=\"หมา\")\n",
    "compare(model_name=model, left_word=\"dog\", right_word=\"cat\")\n",
    "compare(model_name=model, left_word=\"cat\", right_word=\"แมว\")\n",
    "compare(model_name=model, left_word=\"พ่อ\", right_word=\"dad\")\n",
    "compare(model_name=model, left_word=\"father\", right_word=\"dad\")\n",
    "compare(model_name=model, left_word=\"พ่อ\", right_word=\"บิดา\")"
   ]
  }
 ],
 "metadata": {
  "kernelspec": {
   "display_name": "learnml",
   "language": "python",
   "name": "python3"
  },
  "language_info": {
   "codemirror_mode": {
    "name": "ipython",
    "version": 3
   },
   "file_extension": ".py",
   "mimetype": "text/x-python",
   "name": "python",
   "nbconvert_exporter": "python",
   "pygments_lexer": "ipython3",
   "version": "3.10.16"
  }
 },
 "nbformat": 4,
 "nbformat_minor": 5
}
