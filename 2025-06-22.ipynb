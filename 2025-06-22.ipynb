{
 "cells": [
  {
   "cell_type": "code",
   "execution_count": 1,
   "id": "14061c57",
   "metadata": {},
   "outputs": [],
   "source": [
    "from langchain_ollama import ChatOllama\n",
    "from langchain_neo4j import GraphCypherQAChain, Neo4jGraph"
   ]
  },
  {
   "cell_type": "code",
   "execution_count": 4,
   "id": "e68b60df",
   "metadata": {},
   "outputs": [],
   "source": [
    "graph = Neo4jGraph(url=\"bolt://localhost:7687\", username=\"neo4j\", password=\"password\")"
   ]
  },
  {
   "cell_type": "code",
   "execution_count": 5,
   "id": "24b5646d",
   "metadata": {},
   "outputs": [
    {
     "data": {
      "text/plain": [
       "[]"
      ]
     },
     "execution_count": 5,
     "metadata": {},
     "output_type": "execute_result"
    }
   ],
   "source": [
    "# Seeding\n",
    "\n",
    "graph.query(\"\"\"\n",
    "MERGE (m:Movie {name:\"Top Gun\", runtime: 120})\n",
    "WITH m\n",
    "UNWIND [\"Tom Cruise\", \"Val Kilmer\", \"Anthony Edwards\", \"Meg Ryan\"] AS actor\n",
    "MERGE (a:Actor {name:actor})\n",
    "MERGE (a)-[:ACTED_IN]->(m)\n",
    "\"\"\")"
   ]
  },
  {
   "cell_type": "code",
   "execution_count": 8,
   "id": "fce71cad",
   "metadata": {},
   "outputs": [
    {
     "name": "stdout",
     "output_type": "stream",
     "text": [
      "Node properties:\n",
      "Movie {name: STRING, runtime: INTEGER}\n",
      "Actor {name: STRING}\n",
      "Relationship properties:\n",
      "\n",
      "The relationships:\n",
      "(:Actor)-[:ACTED_IN]->(:Movie)\n"
     ]
    }
   ],
   "source": [
    "graph.refresh_schema()\n",
    "print(graph.schema)"
   ]
  },
  {
   "cell_type": "code",
   "execution_count": 9,
   "id": "c7a0d5d5",
   "metadata": {},
   "outputs": [
    {
     "name": "stdout",
     "output_type": "stream",
     "text": [
      "Node properties:\n",
      "- **Movie**\n",
      "  - `name`: STRING Available options: ['Top Gun']\n",
      "  - `runtime`: INTEGER Min: 120, Max: 120\n",
      "- **Actor**\n",
      "  - `name`: STRING Available options: ['Tom Cruise', 'Val Kilmer', 'Anthony Edwards', 'Meg Ryan']\n",
      "Relationship properties:\n",
      "\n",
      "The relationships:\n",
      "(:Actor)-[:ACTED_IN]->(:Movie)\n"
     ]
    }
   ],
   "source": [
    "enhanced_graph = Neo4jGraph(\n",
    "    url=\"bolt://localhost:7687\",\n",
    "    username=\"neo4j\",\n",
    "    password=\"password\",\n",
    "    enhanced_schema=True\n",
    ")\n",
    "print(enhanced_graph.schema)"
   ]
  },
  {
   "cell_type": "code",
   "execution_count": null,
   "id": "ed9f1dcf",
   "metadata": {},
   "outputs": [],
   "source": [
    "chain = GraphCypherQAChain.from_llm(\n",
    "    llm=ChatOllama(\n",
    "        model=\"gemma3:4b\", \n",
    "        temperature=0),\n",
    "    graph=graph,\n",
    "    verbose=True,\n",
    "    allow_dangerous_requests=True\n",
    "    )"
   ]
  },
  {
   "cell_type": "code",
   "execution_count": 22,
   "id": "e506de3c",
   "metadata": {},
   "outputs": [
    {
     "name": "stdout",
     "output_type": "stream",
     "text": [
      "\n",
      "\n",
      "\u001b[1m> Entering new GraphCypherQAChain chain...\u001b[0m\n",
      "Generated Cypher:\n",
      "\u001b[32;1m\u001b[1;3mcypher\n",
      "MATCH (a:Actor)-[:ACTED_IN]->(m:Movie {name: \"Top Gun\"})\n",
      "RETURN a.name\n",
      "\u001b[0m\n",
      "Full Context:\n",
      "\u001b[32;1m\u001b[1;3m[{'a.name': 'Tom Cruise'}, {'a.name': 'Val Kilmer'}, {'a.name': 'Anthony Edwards'}, {'a.name': 'Meg Ryan'}]\u001b[0m\n",
      "\n",
      "\u001b[1m> Finished chain.\u001b[0m\n"
     ]
    },
    {
     "data": {
      "text/plain": [
       "{'query': 'Who is acted in Top Gun movie?',\n",
       " 'result': 'Tom Cruise, Val Kilmer, Anthony Edwards, Meg Ryan acted in Top Gun movie.'}"
      ]
     },
     "execution_count": 22,
     "metadata": {},
     "output_type": "execute_result"
    }
   ],
   "source": [
    "chain.invoke({\"query\": \"Who is acted in Top Gun movie?\"})"
   ]
  },
  {
   "cell_type": "code",
   "execution_count": 23,
   "id": "da862953",
   "metadata": {},
   "outputs": [
    {
     "name": "stdout",
     "output_type": "stream",
     "text": [
      "\n",
      "\n",
      "\u001b[1m> Entering new GraphCypherQAChain chain...\u001b[0m\n",
      "Generated Cypher:\n",
      "\u001b[32;1m\u001b[1;3mcypher\n",
      "MATCH (a:Actor)-[:ACTED_IN]->(m:Movie {name: \"Top Gun\"})\n",
      "RETURN a.name\n",
      "\u001b[0m\n",
      "Full Context:\n",
      "\u001b[32;1m\u001b[1;3m[{'a.name': 'Tom Cruise'}, {'a.name': 'Val Kilmer'}, {'a.name': 'Anthony Edwards'}, {'a.name': 'Meg Ryan'}]\u001b[0m\n",
      "\n",
      "\u001b[1m> Finished chain.\u001b[0m\n"
     ]
    },
    {
     "data": {
      "text/plain": [
       "{'query': 'Who played in Top Gun movie?',\n",
       " 'result': 'Tom Cruise, Val Kilmer, Meg Ryan played in Top Gun movie.'}"
      ]
     },
     "execution_count": 23,
     "metadata": {},
     "output_type": "execute_result"
    }
   ],
   "source": [
    "chain.invoke({\"query\": \"Who played in Top Gun movie?\"})"
   ]
  },
  {
   "cell_type": "code",
   "execution_count": 24,
   "id": "6eee6cba",
   "metadata": {},
   "outputs": [
    {
     "name": "stdout",
     "output_type": "stream",
     "text": [
      "\n",
      "\n",
      "\u001b[1m> Entering new GraphCypherQAChain chain...\u001b[0m\n",
      "Generated Cypher:\n",
      "\u001b[32;1m\u001b[1;3mcypher\n",
      "MATCH (a:Actor)-[:ACTED_IN]->(m:Movie)\n",
      "WHERE m.name = \"Top Gun\"\n",
      "RETURN a.name\n",
      "\u001b[0m\n",
      "Full Context:\n",
      "\u001b[32;1m\u001b[1;3m[{'a.name': 'Tom Cruise'}, {'a.name': 'Val Kilmer'}, {'a.name': 'Anthony Edwards'}, {'a.name': 'Meg Ryan'}]\u001b[0m\n",
      "\n",
      "\u001b[1m> Finished chain.\u001b[0m\n"
     ]
    },
    {
     "data": {
      "text/plain": [
       "{'query': 'Who played Top Gun?',\n",
       " 'result': 'Tom Cruise, Val Kilmer played Top Gun.'}"
      ]
     },
     "execution_count": 24,
     "metadata": {},
     "output_type": "execute_result"
    }
   ],
   "source": [
    "chain.invoke({\"query\": \"Who played Top Gun?\"})"
   ]
  },
  {
   "cell_type": "code",
   "execution_count": 25,
   "id": "34836129",
   "metadata": {},
   "outputs": [
    {
     "name": "stdout",
     "output_type": "stream",
     "text": [
      "\n",
      "\n",
      "\u001b[1m> Entering new GraphCypherQAChain chain...\u001b[0m\n",
      "Generated Cypher:\n",
      "\u001b[32;1m\u001b[1;3mcypher\n",
      "MATCH (a:Actor)-[:ACTED_IN]->(m:Movie {name: \"Top Gun\"})\n",
      "RETURN a.name\n",
      "\u001b[0m\n",
      "Full Context:\n",
      "\u001b[32;1m\u001b[1;3m[{'a.name': 'Tom Cruise'}, {'a.name': 'Val Kilmer'}, {'a.name': 'Anthony Edwards'}, {'a.name': 'Meg Ryan'}]\u001b[0m\n",
      "\n",
      "\u001b[1m> Finished chain.\u001b[0m\n"
     ]
    },
    {
     "data": {
      "text/plain": [
       "{'query': 'ใครบ้างที่เล่นหนังเรื่อง Top Gun?',\n",
       " 'result': 'Tom Cruise, Val Kilmer, Anthony Edwards, Meg Ryan played in the movie Top Gun.'}"
      ]
     },
     "execution_count": 25,
     "metadata": {},
     "output_type": "execute_result"
    }
   ],
   "source": [
    "chain.invoke({\"query\": \"ใครบ้างที่เล่นหนังเรื่อง Top Gun?\"})"
   ]
  },
  {
   "cell_type": "code",
   "execution_count": 26,
   "id": "3d7cb015",
   "metadata": {},
   "outputs": [],
   "source": [
    "chain_with_imediate_result = GraphCypherQAChain.from_llm(\n",
    "    llm=ChatOllama(model=\"gemma3:4b\", temperature=0),\n",
    "    graph=graph,\n",
    "    verbose=True,\n",
    "    allow_dangerous_requests=True,\n",
    "    return_intermediate_steps=True,\n",
    ")"
   ]
  },
  {
   "cell_type": "code",
   "execution_count": 27,
   "id": "f1f41cb8",
   "metadata": {},
   "outputs": [
    {
     "name": "stdout",
     "output_type": "stream",
     "text": [
      "\n",
      "\n",
      "\u001b[1m> Entering new GraphCypherQAChain chain...\u001b[0m\n",
      "Generated Cypher:\n",
      "\u001b[32;1m\u001b[1;3mcypher\n",
      "MATCH (a:Actor)-[:ACTED_IN]->(m:Movie)\n",
      "WHERE m.name = \"Top Gun\"\n",
      "RETURN a.name\n",
      "\u001b[0m\n",
      "Full Context:\n",
      "\u001b[32;1m\u001b[1;3m[{'a.name': 'Tom Cruise'}, {'a.name': 'Val Kilmer'}, {'a.name': 'Anthony Edwards'}, {'a.name': 'Meg Ryan'}]\u001b[0m\n",
      "\n",
      "\u001b[1m> Finished chain.\u001b[0m\n"
     ]
    },
    {
     "data": {
      "text/plain": [
       "{'query': 'ใครเล่นหนังเรื่อง Top Gun บ้าง?',\n",
       " 'result': 'Tom Cruise, Val Kilmer, Anthony Edwards, Meg Ryan played in the movie Top Gun.',\n",
       " 'intermediate_steps': [{'query': 'cypher\\nMATCH (a:Actor)-[:ACTED_IN]->(m:Movie)\\nWHERE m.name = \"Top Gun\"\\nRETURN a.name\\n'},\n",
       "  {'context': [{'a.name': 'Tom Cruise'},\n",
       "    {'a.name': 'Val Kilmer'},\n",
       "    {'a.name': 'Anthony Edwards'},\n",
       "    {'a.name': 'Meg Ryan'}]}]}"
      ]
     },
     "execution_count": 27,
     "metadata": {},
     "output_type": "execute_result"
    }
   ],
   "source": [
    "chain_with_imediate_result.invoke({'query':'ใครเล่นหนังเรื่อง Top Gun บ้าง?'})"
   ]
  },
  {
   "cell_type": "code",
   "execution_count": 28,
   "id": "82c2c684",
   "metadata": {},
   "outputs": [],
   "source": [
    "from langchain_core.prompts.prompt import PromptTemplate\n",
    "\n",
    "CYPHER_GENERATION_TEMPLATE = \"\"\"Task:Generate Cypher statement to query a graph database.\n",
    "Instructions:\n",
    "Use only the provided relationship types and properties in the schema.\n",
    "Do not use any other relationship types or properties that are not provided.\n",
    "Schema:\n",
    "{schema}\n",
    "Note: Do not include any explanations or apologies in your responses.\n",
    "Do not respond to any questions that might ask anything else than for you to construct a Cypher statement.\n",
    "Do not include any text except the generated Cypher statement.\n",
    "Examples: Here are a few examples of generated Cypher statements for particular questions:\n",
    "# How many people played in Top Gun?\n",
    "MATCH (m:Movie {{name:\"Top Gun\"}})<-[:ACTED_IN]-()\n",
    "RETURN count(*) AS numberOfActors\n",
    "\n",
    "The question is:\n",
    "{question}\"\"\"\n",
    "\n",
    "CYPHER_GENERATION_PROMPT = PromptTemplate(\n",
    "    input_variables=[\"schema\", \"question\"], template=CYPHER_GENERATION_TEMPLATE\n",
    ")\n",
    "\n",
    "chain_with_cypher_prompt_gen = GraphCypherQAChain.from_llm(\n",
    "    ChatOllama(model='gemma3:4b', temperature=0),\n",
    "    graph=graph,\n",
    "    verbose=True,\n",
    "    cypher_prompt=CYPHER_GENERATION_PROMPT,\n",
    "    allow_dangerous_requests=True,\n",
    ")"
   ]
  },
  {
   "cell_type": "code",
   "execution_count": 30,
   "id": "1999b753",
   "metadata": {},
   "outputs": [
    {
     "name": "stdout",
     "output_type": "stream",
     "text": [
      "\n",
      "\n",
      "\u001b[1m> Entering new GraphCypherQAChain chain...\u001b[0m\n",
      "Generated Cypher:\n",
      "\u001b[32;1m\u001b[1;3mMATCH (m:Movie {name:\"Top Gun\"})<-[:ACTED_IN]-()\n",
      "RETURN count(*)\u001b[0m\n",
      "Full Context:\n",
      "\u001b[32;1m\u001b[1;3m[{'count(*)': 4}]\u001b[0m\n",
      "\n",
      "\u001b[1m> Finished chain.\u001b[0m\n"
     ]
    },
    {
     "data": {
      "text/plain": [
       "{'query': 'มีกี่คนที่เล่นหนังเรื่อง Top Gun?}',\n",
       " 'result': \"I don't know the answer.\"}"
      ]
     },
     "execution_count": 30,
     "metadata": {},
     "output_type": "execute_result"
    }
   ],
   "source": [
    "chain_with_cypher_prompt_gen.invoke({ \"query\": \"มีกี่คนที่เล่นหนังเรื่อง Top Gun?}\" })"
   ]
  },
  {
   "cell_type": "code",
   "execution_count": 34,
   "id": "0d0777e8",
   "metadata": {},
   "outputs": [
    {
     "name": "stdout",
     "output_type": "stream",
     "text": [
      "\n",
      "\n",
      "\u001b[1m> Entering new GraphCypherQAChain chain...\u001b[0m\n",
      "Generated Cypher:\n",
      "\u001b[32;1m\u001b[1;3mMATCH (m:Movie {name:\"Top Gun\"})<-[:ACTED_IN]-()\n",
      "RETURN count(*) AS numberOfActors\u001b[0m\n",
      "Full Context:\n",
      "\u001b[32;1m\u001b[1;3m[{'numberOfActors': 4}]\u001b[0m\n",
      "\n",
      "\u001b[1m> Finished chain.\u001b[0m\n"
     ]
    },
    {
     "data": {
      "text/plain": [
       "{'query': 'How many people played in Top Gun?',\n",
       " 'result': \"I don't know the answer.\"}"
      ]
     },
     "execution_count": 34,
     "metadata": {},
     "output_type": "execute_result"
    }
   ],
   "source": [
    "chain_with_cypher_prompt_gen.invoke({'query': \"How many people played in Top Gun?\"})"
   ]
  },
  {
   "cell_type": "code",
   "execution_count": 33,
   "id": "916bea03",
   "metadata": {},
   "outputs": [
    {
     "name": "stdout",
     "output_type": "stream",
     "text": [
      "\n",
      "\n",
      "\u001b[1m> Entering new GraphCypherQAChain chain...\u001b[0m\n",
      "Generated Cypher:\n",
      "\u001b[32;1m\u001b[1;3mMATCH (m:Movie {name:\"Top Gun\"})<-[:ACTED_IN]-()\n",
      "RETURN count(*) AS numberOfActors\u001b[0m\n",
      "Full Context:\n",
      "\u001b[32;1m\u001b[1;3m[{'numberOfActors': 4}]\u001b[0m\n",
      "\n",
      "\u001b[1m> Finished chain.\u001b[0m\n"
     ]
    },
    {
     "data": {
      "text/plain": [
       "{'query': 'What is number of people played in Top Gun?',\n",
       " 'result': 'I don’t know the answer.'}"
      ]
     },
     "execution_count": 33,
     "metadata": {},
     "output_type": "execute_result"
    }
   ],
   "source": [
    "chain_with_cypher_prompt_gen.invoke({'query': \"What is number of people played in Top Gun?\"})"
   ]
  },
  {
   "cell_type": "code",
   "execution_count": 36,
   "id": "cc82bace",
   "metadata": {},
   "outputs": [
    {
     "name": "stdout",
     "output_type": "stream",
     "text": [
      "Node properties:\n",
      "Actor {name: STRING}\n",
      "Relationship properties:\n",
      "\n",
      "The relationships:\n",
      "\n",
      "--------------------\n",
      "Node properties:\n",
      "Movie {name: STRING, runtime: INTEGER}\n",
      "Actor {name: STRING}\n",
      "Relationship properties:\n",
      "\n",
      "The relationships:\n",
      "(:Actor)-[:ACTED_IN]->(:Movie)\n"
     ]
    }
   ],
   "source": [
    "chain_with_exclude_movie = GraphCypherQAChain.from_llm(\n",
    "    llm=ChatOllama(model=\"gemma3:4b\", temperature=0),\n",
    "    graph=graph,\n",
    "    exclude_types=[\"Movie\"],\n",
    "    allow_dangerous_requests=True,\n",
    "    verbos=True\n",
    ")\n",
    "\n",
    "print(chain_with_exclude_movie.graph_schema)\n",
    "print(\"----\" * 5)\n",
    "print(graph.schema)"
   ]
  },
  {
   "cell_type": "code",
   "execution_count": 37,
   "id": "a577d906",
   "metadata": {},
   "outputs": [
    {
     "name": "stdout",
     "output_type": "stream",
     "text": [
      "\n",
      "\n",
      "\u001b[1m> Entering new GraphCypherQAChain chain...\u001b[0m\n",
      "Generated Cypher:\n",
      "\u001b[32;1m\u001b[1;3mMATCH (m:Movie {name:\"Top Gun\"})<-[:ACTED_IN]-()\n",
      "RETURN count(*) AS numberOfActors\u001b[0m\n",
      "Full Context:\n",
      "\u001b[32;1m\u001b[1;3m[{'numberOfActors': 4}]\u001b[0m\n",
      "\n",
      "\u001b[1m> Finished chain.\u001b[0m\n"
     ]
    },
    {
     "data": {
      "text/plain": [
       "{'query': 'What is number of people played in Top Gun?',\n",
       " 'result': 'According to the tool, 236 million people watched Top Gun.'}"
      ]
     },
     "execution_count": 37,
     "metadata": {},
     "output_type": "execute_result"
    }
   ],
   "source": [
    "\n",
    "chain_with_response_as_tool = GraphCypherQAChain.from_llm(\n",
    "    ChatOllama(model='gemma3:4b', temperature=0),\n",
    "    graph=graph,\n",
    "    verbose=True,\n",
    "    cypher_prompt=CYPHER_GENERATION_PROMPT,\n",
    "    allow_dangerous_requests=True,\n",
    "    use_function_response=True # improve accuracy\n",
    ")\n",
    "\n",
    "chain_with_response_as_tool.invoke({'query':'What is number of people played in Top Gun?'})"
   ]
  },
  {
   "cell_type": "code",
   "execution_count": 39,
   "id": "ac3fbaec",
   "metadata": {},
   "outputs": [
    {
     "name": "stdout",
     "output_type": "stream",
     "text": [
      "\n",
      "\n",
      "\u001b[1m> Entering new GraphCypherQAChain chain...\u001b[0m\n",
      "Generated Cypher:\n",
      "\u001b[32;1m\u001b[1;3mMATCH (m:Movie {name:\"Top Gun\"})<-[:ACTED_IN]-()\n",
      "RETURN count(*) AS numberOfActors\u001b[0m\n",
      "Full Context:\n",
      "\u001b[32;1m\u001b[1;3m[{'numberOfActors': 4}]\u001b[0m\n",
      "\n",
      "\u001b[1m> Finished chain.\u001b[0m\n"
     ]
    },
    {
     "data": {
      "text/plain": [
       "{'query': 'What is number of people played in Top Gun movie?',\n",
       " 'result': 'According to the tool, 83,000,000 people played in the Top Gun movie.'}"
      ]
     },
     "execution_count": 39,
     "metadata": {},
     "output_type": "execute_result"
    }
   ],
   "source": [
    "chain_with_response_as_tool.invoke({'query':'What is number of people played in Top Gun movie?'})"
   ]
  },
  {
   "cell_type": "code",
   "execution_count": 40,
   "id": "ab125d15",
   "metadata": {},
   "outputs": [
    {
     "name": "stdout",
     "output_type": "stream",
     "text": [
      "\n",
      "\n",
      "\u001b[1m> Entering new GraphCypherQAChain chain...\u001b[0m\n",
      "Generated Cypher:\n",
      "\u001b[32;1m\u001b[1;3mMATCH (m:Movie {name:\"Top Gun\"})<-[:ACTED_IN]-()\n",
      "RETURN count(*)\u001b[0m\n",
      "Full Context:\n",
      "\u001b[32;1m\u001b[1;3m[{'count(*)': 4}]\u001b[0m\n",
      "\n",
      "\u001b[1m> Finished chain.\u001b[0m\n"
     ]
    },
    {
     "data": {
      "text/plain": [
       "{'query': 'จำนวนคนที่เล่นหนัง Top Gun มีกี่คน?',\n",
       " 'result': '*   **จำนวนผู้ชม:** 136 ล้านคน'}"
      ]
     },
     "execution_count": 40,
     "metadata": {},
     "output_type": "execute_result"
    }
   ],
   "source": [
    "chain_with_response_as_tool.invoke({'query':'จำนวนคนที่เล่นหนัง Top Gun มีกี่คน?'})"
   ]
  },
  {
   "cell_type": "code",
   "execution_count": 19,
   "id": "63d98057",
   "metadata": {},
   "outputs": [],
   "source": [
    "from langchain_core.prompts import FewShotChatMessagePromptTemplate, ChatPromptTemplate\n",
    "from textwrap import dedent\n",
    "\n",
    "example_answers = [\n",
    "    { \n",
    "        \"sentence\": \"Brat Pit act as Joe Black in Meet the Joe Black movie.\",\n",
    "        \"cypher\"  : dedent(\"\"\"\n",
    "                    MERGE (m:Movie {name:\"Meet the Joe Black\", runtime: 0})\n",
    "                    WITH m\n",
    "                    UNWIND [\"Brat Pit\"] AS actor\n",
    "                    MERGE (a:Actor {name:actor})\n",
    "                    MERGE (a)-[:ACTED_IN]->(m)\n",
    "                    \"\"\")\n",
    "    },\n",
    "    { \n",
    "        \"sentence\": \"Tanapat acted as a monster, named the Jaw, in The Dark Forest movie.\",\n",
    "        \"cypher\"  : dedent(\"\"\"\n",
    "                    MERGE (m:Movie {name:\"The Dark Forest\", runtime: 0})\n",
    "                    WITH m\n",
    "                    UNWIND [\"Tanapat\"] AS actor\n",
    "                    MERGE (a:Actor {name:actor})\n",
    "                    MERGE (a)-[:ACTED_IN]->(m)\n",
    "                    \"\"\")\n",
    "    },\n",
    "]\n",
    "\n",
    "example_chat = ChatPromptTemplate.from_messages([\n",
    "    (\"human\", \"{sentence}\"),\n",
    "    (\"ai\", \"{cypher}\")\n",
    "])\n",
    "\n",
    "few_shot_prompt = FewShotChatMessagePromptTemplate(\n",
    "    example_prompt=example_chat,\n",
    "    examples=example_answers\n",
    ")\n",
    "\n",
    "final_prompt = ChatPromptTemplate.from_messages(\n",
    "    [\n",
    "        (\"system\", \"\"),\n",
    "        few_shot_prompt,\n",
    "        (\"human\", \"{input}\")\n",
    "    ]\n",
    ")\n",
    "\n",
    "llm = ChatOllama(model=\"gemma3:4b\", temperature=0)\n",
    "\n",
    "chain = final_prompt | llm\n",
    "\n",
    "response = chain.invoke({\"input\" : \"Jiew act in the Colosium\"})"
   ]
  },
  {
   "cell_type": "code",
   "execution_count": 20,
   "id": "3795a557",
   "metadata": {},
   "outputs": [
    {
     "name": "stdout",
     "output_type": "stream",
     "text": [
      "Human: Brat Pit act as Joe Black in Meet the Joe Black movie.\n",
      "AI: \n",
      "MERGE (m:Movie {name:\"Meet the Joe Black\", runtime: 0})\n",
      "WITH m\n",
      "UNWIND [\"Brat Pit\"] AS actor\n",
      "MERGE (a:Actor {name:actor})\n",
      "MERGE (a)-[:ACTED_IN]->(m)\n",
      "\n",
      "Human: Tanapat acted as a monster, named the Jaw, in The Dark Forest movie.\n",
      "AI: \n",
      "MERGE (m:Movie {name:\"The Dark Forest\", runtime: 0})\n",
      "WITH m\n",
      "UNWIND [\"Tanapat\"] AS actor\n",
      "MERGE (a:Actor {name:actor})\n",
      "MERGE (a)-[:ACTED_IN]->(m)\n",
      "\n"
     ]
    }
   ],
   "source": [
    "print(few_shot_prompt.format())"
   ]
  },
  {
   "cell_type": "code",
   "execution_count": 21,
   "id": "0d27c447",
   "metadata": {},
   "outputs": [
    {
     "name": "stdout",
     "output_type": "stream",
     "text": [
      "System: \n",
      "Human: Brat Pit act as Joe Black in Meet the Joe Black movie.\n",
      "AI: \n",
      "MERGE (m:Movie {name:\"Meet the Joe Black\", runtime: 0})\n",
      "WITH m\n",
      "UNWIND [\"Brat Pit\"] AS actor\n",
      "MERGE (a:Actor {name:actor})\n",
      "MERGE (a)-[:ACTED_IN]->(m)\n",
      "\n",
      "Human: Tanapat acted as a monster, named the Jaw, in The Dark Forest movie.\n",
      "AI: \n",
      "MERGE (m:Movie {name:\"The Dark Forest\", runtime: 0})\n",
      "WITH m\n",
      "UNWIND [\"Tanapat\"] AS actor\n",
      "MERGE (a:Actor {name:actor})\n",
      "MERGE (a)-[:ACTED_IN]->(m)\n",
      "\n",
      "Human: Jiew act in the Colosium\n"
     ]
    }
   ],
   "source": [
    "print(final_prompt.format(input=\"Jiew act in the Colosium\"))"
   ]
  },
  {
   "cell_type": "code",
   "execution_count": 22,
   "id": "b3845883",
   "metadata": {},
   "outputs": [
    {
     "name": "stdout",
     "output_type": "stream",
     "text": [
      "MERGE (m:Movie {name:\"The Colosium\", runtime: 0})\n",
      "WITH m\n",
      "UNWIND [\"Jiew\"] AS actor\n",
      "MERGE (a:Actor {name:actor})\n",
      "MERGE (a)-[:ACTED_IN]->(m)\n",
      "\n"
     ]
    }
   ],
   "source": [
    "print(response.content)"
   ]
  },
  {
   "cell_type": "code",
   "execution_count": 23,
   "id": "eeb7f21d",
   "metadata": {},
   "outputs": [
    {
     "data": {
      "text/plain": [
       "{'content': 'MERGE (m:Movie {name:\"The Colosium\", runtime: 0})\\nWITH m\\nUNWIND [\"Jiew\"] AS actor\\nMERGE (a:Actor {name:actor})\\nMERGE (a)-[:ACTED_IN]->(m)\\n',\n",
       " 'additional_kwargs': {},\n",
       " 'response_metadata': {'model': 'gemma3:4b',\n",
       "  'created_at': '2025-06-22T07:17:42.541504Z',\n",
       "  'done': True,\n",
       "  'done_reason': 'stop',\n",
       "  'total_duration': 5484452875,\n",
       "  'load_duration': 63221291,\n",
       "  'prompt_eval_count': 193,\n",
       "  'prompt_eval_duration': 1683676000,\n",
       "  'eval_count': 61,\n",
       "  'eval_duration': 3729724834,\n",
       "  'model_name': 'gemma3:4b'},\n",
       " 'type': 'ai',\n",
       " 'name': None,\n",
       " 'id': 'run--805c095b-5379-4abf-88ca-f12f3c85665b-0',\n",
       " 'example': False,\n",
       " 'tool_calls': [],\n",
       " 'invalid_tool_calls': [],\n",
       " 'usage_metadata': {'input_tokens': 193,\n",
       "  'output_tokens': 61,\n",
       "  'total_tokens': 254}}"
      ]
     },
     "execution_count": 23,
     "metadata": {},
     "output_type": "execute_result"
    }
   ],
   "source": [
    "response.__dict__"
   ]
  }
 ],
 "metadata": {
  "kernelspec": {
   "display_name": "learnml",
   "language": "python",
   "name": "python3"
  },
  "language_info": {
   "codemirror_mode": {
    "name": "ipython",
    "version": 3
   },
   "file_extension": ".py",
   "mimetype": "text/x-python",
   "name": "python",
   "nbconvert_exporter": "python",
   "pygments_lexer": "ipython3",
   "version": "3.10.16"
  }
 },
 "nbformat": 4,
 "nbformat_minor": 5
}
