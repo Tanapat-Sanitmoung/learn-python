{
 "cells": [
  {
   "cell_type": "markdown",
   "id": "217c71dd",
   "metadata": {},
   "source": [
    "# Build the Neural Network"
   ]
  },
  {
   "cell_type": "code",
   "execution_count": 1,
   "id": "3e601d26",
   "metadata": {},
   "outputs": [],
   "source": [
    "import os\n",
    "import torch\n",
    "from torch import nn\n",
    "from torch.utils.data import DataLoader\n",
    "from torchvision import datasets, transforms"
   ]
  },
  {
   "cell_type": "code",
   "execution_count": 2,
   "id": "67cdec86",
   "metadata": {},
   "outputs": [
    {
     "name": "stdout",
     "output_type": "stream",
     "text": [
      "Current torch device: cpu\n"
     ]
    }
   ],
   "source": [
    "device = torch.device(\"cuda\" if torch.cuda.is_available() else \"cpu\")\n",
    "print(f\"Current torch device: {device}\")"
   ]
  },
  {
   "cell_type": "code",
   "execution_count": 3,
   "id": "413535c1",
   "metadata": {},
   "outputs": [],
   "source": [
    "class NeuralNetwork(nn.Module):\n",
    "    def __init__(self):\n",
    "        super().__init__()\n",
    "        self.flatten = nn.Flatten()\n",
    "        self.linear_relu_stack = nn.Sequential(\n",
    "            nn.Linear(28*28, 512),\n",
    "            nn.ReLU(),\n",
    "            nn.Linear(512, 512),\n",
    "            nn.ReLU(),\n",
    "            nn.Linear(512, 10),\n",
    "        )\n",
    "    \n",
    "    def forward(self, x):\n",
    "        x = self.flatten(x)\n",
    "        logits = self.linear_relu_stack(x)\n",
    "        return logits"
   ]
  },
  {
   "cell_type": "code",
   "execution_count": 4,
   "id": "77e5bb2a",
   "metadata": {},
   "outputs": [
    {
     "name": "stdout",
     "output_type": "stream",
     "text": [
      "NeuralNetwork(\n",
      "  (flatten): Flatten(start_dim=1, end_dim=-1)\n",
      "  (linear_relu_stack): Sequential(\n",
      "    (0): Linear(in_features=784, out_features=512, bias=True)\n",
      "    (1): ReLU()\n",
      "    (2): Linear(in_features=512, out_features=512, bias=True)\n",
      "    (3): ReLU()\n",
      "    (4): Linear(in_features=512, out_features=10, bias=True)\n",
      "  )\n",
      ")\n"
     ]
    }
   ],
   "source": [
    "model = NeuralNetwork().to(device)\n",
    "print(model)"
   ]
  },
  {
   "cell_type": "code",
   "execution_count": null,
   "id": "37a23cdf",
   "metadata": {},
   "outputs": [
    {
     "name": "stdout",
     "output_type": "stream",
     "text": [
      "Predicted class: tensor([9])\n"
     ]
    }
   ],
   "source": [
    "X = torch.rand(1, 28, 28, device=device) # Create torch.Size([1, 28, 28])\n",
    "logits = model(X) # torch.Size([1, 10])\n",
    "pred_probab = nn.Softmax(dim=1)(logits)\n",
    "y_pred = pred_probab.argmax(1)\n",
    "print(f\"Predicted class: {y_pred}\")"
   ]
  },
  {
   "cell_type": "code",
   "execution_count": 12,
   "id": "15ba622a",
   "metadata": {},
   "outputs": [
    {
     "name": "stdout",
     "output_type": "stream",
     "text": [
      "Flattem from X's shape: torch.Size([1, 28, 28]) to shape: torch.Size([1, 784])\n"
     ]
    }
   ],
   "source": [
    "f = nn.Flatten()\n",
    "f_result = f(X)\n",
    "print(f\"Flattem from X's shape: {X.shape} to shape: {f_result.shape}\")"
   ]
  },
  {
   "cell_type": "code",
   "execution_count": 17,
   "id": "49738475",
   "metadata": {},
   "outputs": [
    {
     "name": "stdout",
     "output_type": "stream",
     "text": [
      "torch.Size([3, 28, 28])\n"
     ]
    }
   ],
   "source": [
    "input_image = torch.rand(3, 28, 28) # 3 images of 28 x 28 size\n",
    "print(input_image.size())"
   ]
  },
  {
   "cell_type": "code",
   "execution_count": null,
   "id": "6ac5a3e0",
   "metadata": {},
   "outputs": [
    {
     "name": "stdout",
     "output_type": "stream",
     "text": [
      "torch.Size([3, 784])\n"
     ]
    }
   ],
   "source": [
    "flatten = nn.Flatten()\n",
    "flat_image = flatten(input_image)\n",
    "print(flat_image.size())"
   ]
  },
  {
   "cell_type": "code",
   "execution_count": 20,
   "id": "31e09acb",
   "metadata": {},
   "outputs": [
    {
     "name": "stdout",
     "output_type": "stream",
     "text": [
      "torch.Size([3, 20])\n"
     ]
    }
   ],
   "source": [
    "layer1 = nn.Linear(in_features=28*28, out_features=20)\n",
    "hidden1 = layer1(flat_image)\n",
    "print(hidden1.size())"
   ]
  },
  {
   "cell_type": "code",
   "execution_count": 21,
   "id": "a4285593",
   "metadata": {},
   "outputs": [
    {
     "name": "stdout",
     "output_type": "stream",
     "text": [
      "before apply ReLU: tensor([[ 0.5359,  0.1777,  0.1312, -0.3059, -0.2453,  0.0270, -0.0304, -0.1297,\n",
      "         -0.4231,  0.1303, -0.1953, -0.0333,  0.5598, -0.1212,  0.3054,  0.7382,\n",
      "         -0.5515,  0.1466,  0.7173, -0.3539],\n",
      "        [ 0.3187,  0.0273,  0.2602, -0.5207, -0.3706,  0.0222, -0.1907, -0.2105,\n",
      "         -0.4947,  0.1181, -0.1125, -0.1096,  0.7371,  0.3558,  0.2109,  0.7764,\n",
      "         -0.6327,  0.2779,  0.5369, -0.4863],\n",
      "        [ 0.4717,  0.1693,  0.2080, -0.2838, -0.3052,  0.0221,  0.0120, -0.1295,\n",
      "         -0.3825,  0.3050, -0.0710,  0.1620,  0.5099, -0.0907, -0.1004,  0.6280,\n",
      "         -0.7514,  0.2595,  0.3311, -0.1165]], grad_fn=<AddmmBackward0>)\n",
      "\n",
      "\n",
      "after apply ReLU: tensor([[0.5359, 0.1777, 0.1312, 0.0000, 0.0000, 0.0270, 0.0000, 0.0000, 0.0000,\n",
      "         0.1303, 0.0000, 0.0000, 0.5598, 0.0000, 0.3054, 0.7382, 0.0000, 0.1466,\n",
      "         0.7173, 0.0000],\n",
      "        [0.3187, 0.0273, 0.2602, 0.0000, 0.0000, 0.0222, 0.0000, 0.0000, 0.0000,\n",
      "         0.1181, 0.0000, 0.0000, 0.7371, 0.3558, 0.2109, 0.7764, 0.0000, 0.2779,\n",
      "         0.5369, 0.0000],\n",
      "        [0.4717, 0.1693, 0.2080, 0.0000, 0.0000, 0.0221, 0.0120, 0.0000, 0.0000,\n",
      "         0.3050, 0.0000, 0.1620, 0.5099, 0.0000, 0.0000, 0.6280, 0.0000, 0.2595,\n",
      "         0.3311, 0.0000]], grad_fn=<ReluBackward0>)\n"
     ]
    }
   ],
   "source": [
    "print(f\"before apply ReLU: {hidden1}\\n\\n\")\n",
    "hidden1 = nn.ReLU()(hidden1)\n",
    "print(f\"after apply ReLU: {hidden1}\")"
   ]
  },
  {
   "cell_type": "code",
   "execution_count": 23,
   "id": "470ca216",
   "metadata": {},
   "outputs": [],
   "source": [
    "seq_modules = nn.Sequential(\n",
    "    flatten, #input: _, output: 784\n",
    "    layer1, #input: 784, output: 20\n",
    "    nn.ReLU(),\n",
    "    nn.Linear(20, 10)\n",
    ")\n",
    "input_image = torch.rand(3, 28, 28)\n",
    "logit = seq_modules(input_image)"
   ]
  },
  {
   "cell_type": "code",
   "execution_count": 24,
   "id": "4d73f250",
   "metadata": {},
   "outputs": [
    {
     "data": {
      "text/plain": [
       "tensor([[0.0942, 0.1018, 0.1036, 0.1007, 0.1051, 0.0937, 0.0980, 0.0967, 0.1006,\n",
       "         0.1055]], grad_fn=<SoftmaxBackward0>)"
      ]
     },
     "execution_count": 24,
     "metadata": {},
     "output_type": "execute_result"
    }
   ],
   "source": [
    "pred_probab"
   ]
  },
  {
   "cell_type": "code",
   "execution_count": 27,
   "id": "c40e0c49",
   "metadata": {},
   "outputs": [
    {
     "data": {
      "text/plain": [
       "tensor([9])"
      ]
     },
     "execution_count": 27,
     "metadata": {},
     "output_type": "execute_result"
    }
   ],
   "source": [
    "pred_probab.argmax(1)"
   ]
  },
  {
   "cell_type": "code",
   "execution_count": null,
   "id": "d28158fc",
   "metadata": {},
   "outputs": [],
   "source": [
    "from transform"
   ]
  }
 ],
 "metadata": {
  "kernelspec": {
   "display_name": "learnml",
   "language": "python",
   "name": "python3"
  },
  "language_info": {
   "codemirror_mode": {
    "name": "ipython",
    "version": 3
   },
   "file_extension": ".py",
   "mimetype": "text/x-python",
   "name": "python",
   "nbconvert_exporter": "python",
   "pygments_lexer": "ipython3",
   "version": "3.10.16"
  }
 },
 "nbformat": 4,
 "nbformat_minor": 5
}
