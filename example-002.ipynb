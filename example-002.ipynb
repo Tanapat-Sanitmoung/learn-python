{
 "cells": [
  {
   "cell_type": "markdown",
   "id": "3b478eef",
   "metadata": {},
   "source": [
    "# Transformers"
   ]
  },
  {
   "cell_type": "code",
   "execution_count": 2,
   "id": "3dafda2d",
   "metadata": {},
   "outputs": [
    {
     "name": "stdout",
     "output_type": "stream",
     "text": [
      "Label without target_transform: 9\n",
      "Label with target_transform (one-hot): tensor([0., 0., 0., 0., 0., 0., 0., 0., 0., 1.])\n"
     ]
    },
    {
     "data": {
      "image/png": "[encoded data removed]",
      "text/plain": [
       "<Figure size 600x300 with 2 Axes>"
      ]
     },
     "metadata": {},
     "output_type": "display_data"
    }
   ],
   "source": [
    "import torch\n",
    "import matplotlib.pyplot as plt\n",
    "from torchvision import datasets\n",
    "from torchvision.transforms import ToTensor, Lambda\n",
    "\n",
    "ds = datasets.FashionMNIST(\n",
    "    root=\"data\",\n",
    "    train=True,\n",
    "    download=True,\n",
    "    transform=ToTensor(),\n",
    "    # convert integer into one-hot encoder \n",
    "    # possible value is 0 - 9\n",
    "    # use size (10,) of 0 and 1 value\n",
    "    target_transform=Lambda(lambda y: torch.zeros(10, dtype=torch.float).scatter_(0, torch.tensor(y), value=1))\n",
    ")\n",
    "\n",
    "# Load FashionMNIST without target_transform\n",
    "ds_no_transform = datasets.FashionMNIST(\n",
    "    root=\"data\",\n",
    "    train=True,\n",
    "    download=True,\n",
    "    transform=ToTensor()\n",
    ")\n",
    "\n",
    "# Show the first label with and without target_transform\n",
    "img1, label1 = ds_no_transform[0]\n",
    "img2, label2 = ds[0]  # ds uses target_transform\n",
    "\n",
    "print(\"Label without target_transform:\", label1)\n",
    "print(\"Label with target_transform (one-hot):\", label2)\n",
    "\n",
    "# Visualize both\n",
    "fig, axes = plt.subplots(1, 2, figsize=(6, 3))\n",
    "axes[0].imshow(img1.squeeze(), cmap='gray')\n",
    "axes[0].set_title(f\"Label: {label1}\")\n",
    "axes[0].axis('off')\n",
    "\n",
    "axes[1].imshow(img2.squeeze(), cmap='gray')\n",
    "axes[1].set_title(f\"One-hot: {label2.argmax().item()}\")\n",
    "axes[1].axis('off')\n",
    "\n",
    "plt.tight_layout()\n",
    "plt.show()"
   ]
  },
  {
   "cell_type": "markdown",
   "id": "d0c9c09a",
   "metadata": {},
   "source": [
    "# This cell is intentionally left blank or ready for new code.\n",
    "The code uses a `target_transform` to convert integer labels into one-hot encoded tensors. \n",
    "\n",
    "- `ds_no_transform` returns the label as an integer (e.g., `9`).\n",
    "- `ds` uses `target_transform`, which creates a tensor of zeros with length 10 and sets the index corresponding to the label to 1 (e.g., `[0, 0, ..., 1]` for label 9).\n",
    "\n",
    "This is useful for training neural networks, as one-hot encoding is a common format for classification targets. The visualizations show that the image is the same, but the label format differs: integer vs. one-hot tensor."
   ]
  },
  {
   "cell_type": "code",
   "execution_count": 7,
   "id": "0e93fcf0",
   "metadata": {},
   "outputs": [
    {
     "data": {
      "text/plain": [
       "Dataset FashionMNIST\n",
       "    Number of datapoints: 60000\n",
       "    Root location: data\n",
       "    Split: Train\n",
       "    StandardTransform\n",
       "Transform: ToTensor()\n",
       "Target transform: Lambda()"
      ]
     },
     "execution_count": 7,
     "metadata": {},
     "output_type": "execute_result"
    }
   ],
   "source": [
    "ds"
   ]
  },
  {
   "cell_type": "code",
   "execution_count": null,
   "id": "e4a8493c",
   "metadata": {},
   "outputs": [],
   "source": []
  }
 ],
 "metadata": {
  "kernelspec": {
   "display_name": "learnml",
   "language": "python",
   "name": "python3"
  },
  "language_info": {
   "codemirror_mode": {
    "name": "ipython",
    "version": 3
   },
   "file_extension": ".py",
   "mimetype": "text/x-python",
   "name": "python",
   "nbconvert_exporter": "python",
   "pygments_lexer": "ipython3",
   "version": "3.10.16"
  }
 },
 "nbformat": 4,
 "nbformat_minor": 5
}
