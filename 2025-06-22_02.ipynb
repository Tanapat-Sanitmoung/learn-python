{
 "cells": [
  {
   "cell_type": "code",
   "execution_count": 29,
   "id": "9f55fe21",
   "metadata": {},
   "outputs": [
    {
     "name": "stdout",
     "output_type": "stream",
     "text": [
      "Node properties:\n",
      "Movie {name: STRING, runtime: INTEGER}\n",
      "Actor {name: STRING}\n",
      "Relationship properties:\n",
      "\n",
      "The relationships:\n",
      "(:Actor)-[:ACTED_IN]->(:Movie)\n"
     ]
    }
   ],
   "source": [
    "from langchain_neo4j import Neo4jGraph\n",
    "\n",
    "graph = Neo4jGraph(\n",
    "    url=\"bolt://localhost:7687\",\n",
    "    username=\"neo4j\",\n",
    "    password=\"password\"\n",
    ")\n",
    "\n",
    "print(graph.schema)"
   ]
  },
  {
   "cell_type": "code",
   "execution_count": 38,
   "id": "c8f1cd40",
   "metadata": {},
   "outputs": [],
   "source": [
    "from langchain_experimental.graph_transformers.llm import LLMGraphTransformer\n",
    "from langchain_ollama import ChatOllama\n",
    "\n",
    "graph_transformer = LLMGraphTransformer(\n",
    "    llm=ChatOllama(model=\"gemma3:4b\", temperature=0),\n",
    "    # allowed_nodes=[\"Actor\", \"Movie\"],\n",
    "    # allowed_relationships=[\"ACTED_IN\"],\n",
    ")"
   ]
  },
  {
   "cell_type": "code",
   "execution_count": 31,
   "id": "e0ca1171",
   "metadata": {},
   "outputs": [],
   "source": [
    "from textwrap import dedent\n",
    "\n",
    "text = dedent(\n",
    "    \"\"\"\n",
    "    In 1999, in an unnamed city, Thomas Anderson, a computer programmer known as \"Neo\" in hacking circles, delves into the mystery of the \"Matrix\". His search brings him to the attention of hacker Trinity, who discloses that the enigmatic Morpheus can answer Neo's questions. At his workplace, Neo is pursued by police and Agents led by Agent Smith. Morpheus guides Neo's escape by phone, able to somehow remotely observe their movements, but Neo ultimately surrenders rather than risk a hazardous getaway.\n",
    "    The Agents interrogate Neo about Morpheus but he refuses to cooperate. In response, they seal Neo's mouth shut and implant a robotic device in his abdomen. Neo awakens at home, initially dismissing the encounter as a nightmare until Trinity and her allies arrive, extract the implanted tracker, and bring Neo to Morpheus, their leader. Morpheus offers Neo a choice: a red pill to uncover the truth about the Matrix or a blue pill to forget everything and return to his normal life. Opting for the red pill, Neo's reality distorts, and he awakens submerged in a mechanical pod with invasive cables running throughout his body. Neo witnesses countless inert humans similarly encased and tended to by machines before he is ejected from the facility and rescued by Morpheus aboard the hovercraft, the Nebuchadnezzar.\n",
    "    Morpheus reveals that the year is approximately 2199. In the 21st century, humanity lost a war with their artificially intelligent creations, leaving the Earth a devastated ruin. As a last resort, humans blackened the sky to eliminate the machines' access to solar power and, in response, the machines developed farms of artificially grown humans to harness their bioelectric energy. The Matrix is a simulated reality based on human civilization at its peak, designed to keep the subjugated humans oblivious and pacified. The remaining free humans established an underground refuge known as Zion, living a harsh existence on scarce resources. Morpheus and his rebel crew hack into the Matrix to free and recruit others, manipulating the rules of the simulation to gain superhuman physical abilities. Even so, they are outmatched by the overwhelmingly powerful Agents—sentient programs protecting the Matrix—and dying in the Matrix causes death in the real world. Morpheus liberated Neo because he believes him to be \"the One\", a prophesied figure destined to dismantle the Matrix and liberate humanity.\n",
    "    \"\"\"\n",
    ")"
   ]
  },
  {
   "cell_type": "code",
   "execution_count": 32,
   "id": "43f9f065",
   "metadata": {},
   "outputs": [
    {
     "name": "stdout",
     "output_type": "stream",
     "text": [
      "\n",
      "In 1999, in an unnamed city, Thomas Anderson, a computer programmer known as \"Neo\" in hacking circles, delves into the mystery of the \"Matrix\". His search brings him to the attention of hacker Trinity, who discloses that the enigmatic Morpheus can answer Neo's questions. At his workplace, Neo is pursued by police and Agents led by Agent Smith. Morpheus guides Neo's escape by phone, able to somehow remotely observe their movements, but Neo ultimately surrenders rather than risk a hazardous getaway.\n",
      "The Agents interrogate Neo about Morpheus but he refuses to cooperate. In response, they seal Neo's mouth shut and implant a robotic device in his abdomen. Neo awakens at home, initially dismissing the encounter as a nightmare until Trinity and her allies arrive, extract the implanted tracker, and bring Neo to Morpheus, their leader. Morpheus offers Neo a choice: a red pill to uncover the truth about the Matrix or a blue pill to forget everything and return to his normal life. Opting for the red pill, Neo's reality distorts, and he awakens submerged in a mechanical pod with invasive cables running throughout his body. Neo witnesses countless inert humans similarly encased and tended to by machines before he is ejected from the facility and rescued by Morpheus aboard the hovercraft, the Nebuchadnezzar.\n",
      "Morpheus reveals that the year is approximately 2199. In the 21st century, humanity lost a war with their artificially intelligent creations, leaving the Earth a devastated ruin. As a last resort, humans blackened the sky to eliminate the machines' access to solar power and, in response, the machines developed farms of artificially grown humans to harness their bioelectric energy. The Matrix is a simulated reality based on human civilization at its peak, designed to keep the subjugated humans oblivious and pacified. The remaining free humans established an underground refuge known as Zion, living a harsh existence on scarce resources. Morpheus and his rebel crew hack into the Matrix to free and recruit others, manipulating the rules of the simulation to gain superhuman physical abilities. Even so, they are outmatched by the overwhelmingly powerful Agents—sentient programs protecting the Matrix—and dying in the Matrix causes death in the real world. Morpheus liberated Neo because he believes him to be \"the One\", a prophesied figure destined to dismantle the Matrix and liberate humanity.\n",
      "\n"
     ]
    }
   ],
   "source": [
    "print(text)"
   ]
  },
  {
   "cell_type": "code",
   "execution_count": 39,
   "id": "9f175aeb",
   "metadata": {},
   "outputs": [],
   "source": [
    "from langchain_core.documents import Document\n",
    "\n",
    "documents = [Document(text)]\n",
    "graph_documents = await graph_transformer.aconvert_to_graph_documents(documents)"
   ]
  },
  {
   "cell_type": "code",
   "execution_count": 40,
   "id": "7b01fa06",
   "metadata": {},
   "outputs": [
    {
     "data": {
      "text/plain": [
       "1"
      ]
     },
     "execution_count": 40,
     "metadata": {},
     "output_type": "execute_result"
    }
   ],
   "source": [
    "len(graph_documents)"
   ]
  },
  {
   "cell_type": "code",
   "execution_count": 41,
   "id": "00ffff8d",
   "metadata": {},
   "outputs": [
    {
     "data": {
      "text/plain": [
       "[Node(id='Thomas Anderson', type='Person', properties={}),\n",
       " Node(id='Neo', type='Person', properties={}),\n",
       " Node(id='Trinity', type='Person', properties={}),\n",
       " Node(id='Morpheus', type='Person', properties={}),\n",
       " Node(id='Agent Smith', type='Person', properties={}),\n",
       " Node(id='Matrix', type='Concept', properties={}),\n",
       " Node(id='Zion', type='Location', properties={}),\n",
       " Node(id='Nebuchadnezzar', type='Vehicle', properties={}),\n",
       " Node(id='2199', type='Date', properties={}),\n",
       " Node(id='Artificial Intelligence', type='Concept', properties={}),\n",
       " Node(id='Machines', type='Concept', properties={})]"
      ]
     },
     "execution_count": 41,
     "metadata": {},
     "output_type": "execute_result"
    }
   ],
   "source": [
    "graph_documents[0].nodes"
   ]
  },
  {
   "cell_type": "code",
   "execution_count": 42,
   "id": "c317eba5",
   "metadata": {},
   "outputs": [
    {
     "data": {
      "text/plain": [
       "[Relationship(source=Node(id='Thomas Anderson', type='Person', properties={}), target=Node(id='Neo', type='Person', properties={}), type='KNOWS', properties={}),\n",
       " Relationship(source=Node(id='Neo', type='Person', properties={}), target=Node(id='Trinity', type='Person', properties={}), type='FRIENDS_WITH', properties={}),\n",
       " Relationship(source=Node(id='Neo', type='Person', properties={}), target=Node(id='Morpheus', type='Person', properties={}), type='FOLLOWS', properties={}),\n",
       " Relationship(source=Node(id='Neo', type='Person', properties={}), target=Node(id='Agent Smith', type='Person', properties={}), type='IS_CHASED_BY', properties={}),\n",
       " Relationship(source=Node(id='Neo', type='Person', properties={}), target=Node(id='Morpheus', type='Person', properties={}), type='FOLLOWS', properties={}),\n",
       " Relationship(source=Node(id='Neo', type='Person', properties={}), target=Node(id='Zion', type='Location', properties={}), type='LIVES_IN', properties={}),\n",
       " Relationship(source=Node(id='Neo', type='Person', properties={}), target=Node(id='Nebuchadnezzar', type='Vehicle', properties={}), type='RIDES_ON', properties={}),\n",
       " Relationship(source=Node(id='Neo', type='Person', properties={}), target=Node(id='2199', type='Date', properties={}), type='LIVES_IN', properties={}),\n",
       " Relationship(source=Node(id='Neo', type='Person', properties={}), target=Node(id='Artificial Intelligence', type='Concept', properties={}), type='FIGHTS', properties={}),\n",
       " Relationship(source=Node(id='Neo', type='Person', properties={}), target=Node(id='Machines', type='Concept', properties={}), type='FIGHTS', properties={}),\n",
       " Relationship(source=Node(id='Neo', type='Person', properties={}), target=Node(id='Zion', type='Location', properties={}), type='LIVES_IN', properties={})]"
      ]
     },
     "execution_count": 42,
     "metadata": {},
     "output_type": "execute_result"
    }
   ],
   "source": [
    "graph_documents[0].relationships"
   ]
  }
 ],
 "metadata": {
  "kernelspec": {
   "display_name": "learnml",
   "language": "python",
   "name": "python3"
  },
  "language_info": {
   "codemirror_mode": {
    "name": "ipython",
    "version": 3
   },
   "file_extension": ".py",
   "mimetype": "text/x-python",
   "name": "python",
   "nbconvert_exporter": "python",
   "pygments_lexer": "ipython3",
   "version": "3.10.16"
  }
 },
 "nbformat": 4,
 "nbformat_minor": 5
}
