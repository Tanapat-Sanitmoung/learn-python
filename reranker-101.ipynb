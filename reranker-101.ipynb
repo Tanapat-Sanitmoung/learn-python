{
 "cells": [
  {
   "cell_type": "code",
   "execution_count": null,
   "id": "1cac8529",
   "metadata": {},
   "outputs": [],
   "source": [
    "%pip install sentence-transformers\n",
    "%pip install cross-encoder"
   ]
  },
  {
   "cell_type": "code",
   "execution_count": 1,
   "id": "effbbfa0",
   "metadata": {},
   "outputs": [
    {
     "name": "stdout",
     "output_type": "stream",
     "text": [
      "ผลลัพธ์ก่อนการจัดอันดับ:\n",
      "Spark can connect to Cassandra for efficient data processing. (similarity: 0.8216)\n",
      "How to install Spark on a local machine. (similarity: 0.7335)\n",
      "The benefits of using Cassandra in Big Data systems. (similarity: 0.6564)\n",
      "Spark integrates well with Hadoop. (similarity: 0.6534)\n",
      "--------------------\n",
      "ผลลัพธ์หลังการจัดอันดับ:\n",
      "Spark can connect to Cassandra for efficient data processing. (คะแนน: 6.2389)\n",
      "The benefits of using Cassandra in Big Data systems. (คะแนน: -2.6328)\n",
      "Spark integrates well with Hadoop. (คะแนน: -2.9612)\n",
      "How to install Spark on a local machine. (คะแนน: -4.9720)\n"
     ]
    }
   ],
   "source": [
    "from sentence_transformers import SentenceTransformer, CrossEncoder, util\n",
    "\n",
    "# โหลด Embedding Model\n",
    "embedding_model = SentenceTransformer(\"BAAI/bge-m3\")\n",
    "\n",
    "# โหลด ReRanker Model\n",
    "# reranker_model = CrossEncoder(\"cross-encoder/ms-marco-MiniLM-L6\")\n",
    "reranker_model = CrossEncoder(\"cross-encoder/ms-marco-MiniLM-L-6-v2\")\n",
    "\n",
    "# ตัวอย่างข้อความและเอกสารที่ต้องค้นหา\n",
    "# query = \"วิธีใช้ Spark กับ Cassandra\"\n",
    "# documents = [\n",
    "#     \"Spark ใช้ร่วมกับ Hadoop ได้ดี\",\n",
    "#     \"Spark สามารถเชื่อมต่อกับ Cassandra เพื่อประมวลผลข้อมูล\",\n",
    "#     \"วิธีติดตั้ง Spark บนเครื่อง Local\",\n",
    "#     \"ประโยชน์ของ Cassandra ในระบบ Big Data\"\n",
    "# ]\n",
    "query = \"How to use Spark with Cassandra?\"\n",
    "documents = [\n",
    "    \"Spark integrates well with Hadoop.\",\n",
    "    \"Spark can connect to Cassandra for efficient data processing.\",\n",
    "    \"How to install Spark on a local machine.\",\n",
    "    \"The benefits of using Cassandra in Big Data systems.\"\n",
    "]\n",
    "\n",
    "\n",
    "# เปลี่ยนเอกสารเป็นเวกเตอร์โดยใช้ Embedding Model\n",
    "doc_embeddings = embedding_model.encode(documents, convert_to_tensor=True)\n",
    "query_embedding = embedding_model.encode(query, convert_to_tensor=True)\n",
    "\n",
    "# หาความคล้ายคลึงระหว่าง query กับเอกสาร\n",
    "similarity_scores = util.pytorch_cos_sim(query_embedding, doc_embeddings)[0]\n",
    "\n",
    "sorted_docs = sorted(zip(documents, similarity_scores), key=lambda x: x[1], reverse=True)\n",
    "\n",
    "# แสดงผลลัพธ์\n",
    "print(\"ผลลัพธ์ก่อนการจัดอันดับ:\")\n",
    "for doc, score in sorted_docs:\n",
    "    print(f\"{doc} (similarity: {score:.4f})\")\n",
    "\n",
    "print(\"-\" * 20)\n",
    "\n",
    "# จัดอันดับเอกสารโดยใช้ ReRanker Model\n",
    "rerank_inputs = [[query, doc] for doc in documents]\n",
    "rerank_scores = reranker_model.predict(rerank_inputs)\n",
    "\n",
    "# จัดเรียงผลลัพธ์จาก ReRanker\n",
    "reranked_docs = sorted(zip(documents, rerank_scores), key=lambda x: x[1], reverse=True)\n",
    "\n",
    "# แสดงผลลัพธ์\n",
    "print(\"ผลลัพธ์หลังการจัดอันดับ:\")\n",
    "for doc, score in reranked_docs:\n",
    "    print(f\"{doc} (คะแนน: {score:.4f})\")\n"
   ]
  }
 ],
 "metadata": {
  "kernelspec": {
   "display_name": "learnml",
   "language": "python",
   "name": "python3"
  },
  "language_info": {
   "codemirror_mode": {
    "name": "ipython",
    "version": 3
   },
   "file_extension": ".py",
   "mimetype": "text/x-python",
   "name": "python",
   "nbconvert_exporter": "python",
   "pygments_lexer": "ipython3",
   "version": "3.10.16"
  }
 },
 "nbformat": 4,
 "nbformat_minor": 5
}
