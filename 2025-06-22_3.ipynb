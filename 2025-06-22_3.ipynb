{
 "cells": [
  {
   "cell_type": "markdown",
   "id": "2334b18a",
   "metadata": {},
   "source": [
    "I have read from this [link](https://medium.com/donato-story/exploring-few-shot-prompts-with-langchain-852f27ea4e1d)"
   ]
  },
  {
   "cell_type": "code",
   "execution_count": null,
   "id": "f2831828",
   "metadata": {},
   "outputs": [],
   "source": [
    "import logfire\n",
    "logfire.configure(send_to_logfire=\"if-token-present\")\n",
    "logfire.instrument_httpx()"
   ]
  },
  {
   "cell_type": "markdown",
   "id": "04fd6144",
   "metadata": {},
   "source": [
    "# 1. Simple example"
   ]
  },
  {
   "cell_type": "code",
   "execution_count": 2,
   "id": "6ef24a05",
   "metadata": {},
   "outputs": [
    {
     "name": "stdout",
     "output_type": "stream",
     "text": [
      "Human: 2 + 2\n",
      "AI: 4\n",
      "Human: 2 + 3\n",
      "AI: 5\n"
     ]
    }
   ],
   "source": [
    "from langchain_core.prompts import ChatPromptTemplate, FewShotChatMessagePromptTemplate\n",
    "\n",
    "examples = [\n",
    "    { \"input\": \"2 + 2\", \"output\": \"4\" },\n",
    "    { \"input\": \"2 + 3\", \"output\": \"5\" }\n",
    "]\n",
    "\n",
    "example_prompt = ChatPromptTemplate.from_messages([\n",
    "    (\"human\", \"{input}\"),\n",
    "    (\"ai\", \"{output}\")\n",
    "])\n",
    "\n",
    "print(example_prompt.format(input=examples[0]['input'], output=examples[0]['output']))\n",
    "print(example_prompt.format(input=examples[1]['input'], output=examples[1]['output']))"
   ]
  },
  {
   "cell_type": "code",
   "execution_count": 3,
   "id": "86bf9d51",
   "metadata": {},
   "outputs": [
    {
     "name": "stdout",
     "output_type": "stream",
     "text": [
      "Human: 2 + 2\n",
      "AI: 4\n",
      "Human: 2 + 3\n",
      "AI: 5\n"
     ]
    }
   ],
   "source": [
    "few_shot_prompt = FewShotChatMessagePromptTemplate(\n",
    "    example_prompt=example_prompt,\n",
    "    examples=examples\n",
    ")\n",
    "\n",
    "print(few_shot_prompt.format())"
   ]
  },
  {
   "cell_type": "code",
   "execution_count": 4,
   "id": "4932a1be",
   "metadata": {},
   "outputs": [
    {
     "name": "stdout",
     "output_type": "stream",
     "text": [
      "System: you are super duper wizard of math\n",
      "Human: 2 + 2\n",
      "AI: 4\n",
      "Human: 2 + 3\n",
      "AI: 5\n",
      "Human: What man is a man, who doesn’t make the world a better place?\n"
     ]
    }
   ],
   "source": [
    "final_prompt = ChatPromptTemplate.from_messages(\n",
    "    [\n",
    "        (\"system\", \"you are super duper wizard of math\"),\n",
    "        few_shot_prompt,\n",
    "        (\"human\", \"{input}\")\n",
    "    ]\n",
    ")\n",
    "\n",
    "print(final_prompt.format(input=\"What man is a man, who doesn’t make the world a better place?\"))"
   ]
  },
  {
   "cell_type": "markdown",
   "id": "a29a5717",
   "metadata": {},
   "source": [
    "## 2. Dynamic Examples"
   ]
  },
  {
   "cell_type": "code",
   "execution_count": 22,
   "id": "adbef864",
   "metadata": {},
   "outputs": [],
   "source": [
    "examples = [\n",
    "    { \"input\": \"1 + 1\", \"output\": \"2\" },\n",
    "    { \"input\": \"2 + 3\", \"output\": \"5\" },\n",
    "    { \"input\": \"6 x 5\", \"output\": \"30\" },\n",
    "    { \"input\": \"What did the stone say to the moon?\", \"output\": \"He is singing a song like he always need her\" },\n",
    "    { \"input\": \"What a girl want?\", \"output\": \"There is no one size fit all\" },\n",
    "    { \"input\": \"How to get a lot of gold?\", \"output\": \"type .. iseedeadpeople and press Enter\" },\n",
    "]"
   ]
  },
  {
   "cell_type": "code",
   "execution_count": 23,
   "id": "210007b9",
   "metadata": {},
   "outputs": [
    {
     "data": {
      "text/plain": [
       "[{'input': '1 + 1', 'output': '2'},\n",
       " {'input': '2 + 3', 'output': '5'},\n",
       " {'input': '6 x 5', 'output': '30'},\n",
       " {'input': 'What did the stone say to the moon?',\n",
       "  'output': 'He is singing a song like he always need her'},\n",
       " {'input': 'What a girl want?', 'output': 'There is no one size fit all'},\n",
       " {'input': 'How to get a lot of gold?',\n",
       "  'output': 'type .. iseedeadpeople and press Enter'}]"
      ]
     },
     "execution_count": 23,
     "metadata": {},
     "output_type": "execute_result"
    }
   ],
   "source": [
    "examples"
   ]
  },
  {
   "cell_type": "code",
   "execution_count": 24,
   "id": "a8413077",
   "metadata": {},
   "outputs": [
    {
     "data": {
      "text/plain": [
       "['1   +   1',\n",
       " '2   +   3',\n",
       " '6   x   5',\n",
       " 'W h a t   d i d   t h e   s t o n e   s a y   t o   t h e   m o o n ?',\n",
       " 'W h a t   a   g i r l   w a n t ?',\n",
       " 'H o w   t o   g e t   a   l o t   o f   g o l d ?']"
      ]
     },
     "execution_count": 24,
     "metadata": {},
     "output_type": "execute_result"
    }
   ],
   "source": [
    "to_vectorize = [\" \".join(example['input']) for example in examples]\n",
    "to_vectorize"
   ]
  },
  {
   "cell_type": "code",
   "execution_count": 25,
   "id": "4df27d6e",
   "metadata": {},
   "outputs": [
    {
     "data": {
      "text/plain": [
       "{'ids': [],\n",
       " 'embeddings': None,\n",
       " 'documents': [],\n",
       " 'uris': None,\n",
       " 'included': ['metadatas', 'documents'],\n",
       " 'data': None,\n",
       " 'metadatas': []}"
      ]
     },
     "execution_count": 25,
     "metadata": {},
     "output_type": "execute_result"
    }
   ],
   "source": [
    "from langchain_ollama import OllamaEmbeddings\n",
    "from langchain_chroma import Chroma\n",
    "\n",
    "embeddings_model = OllamaEmbeddings(\n",
    "    model=\"bge-m3:latest\",\n",
    "    temperature=0,\n",
    ")\n",
    "\n",
    "# ensure no data\n",
    "vector_store = Chroma(embedding_function=embeddings_model)\n",
    "vector_store.reset_collection()\n",
    "vector_store.get()"
   ]
  },
  {
   "cell_type": "code",
   "execution_count": 26,
   "id": "68034b8d",
   "metadata": {},
   "outputs": [
    {
     "name": "stdout",
     "output_type": "stream",
     "text": [
      "14:03:20.997 POST 127.0.0.1/api/embed\n"
     ]
    },
    {
     "data": {
      "text/plain": [
       "{'ids': ['478870b7-a70c-40f1-bb4a-e3cafaed92aa',\n",
       "  '65622760-a30e-4e87-a4e6-2cf24886ecbb',\n",
       "  'c08b682b-3aaa-4d37-bf13-5225b86711bf',\n",
       "  '458e37b5-5d28-45fd-8292-4a6a844c18af',\n",
       "  '44f9eac0-39b3-4b8b-b2e2-11bb57008005',\n",
       "  'f337d8b5-e3bf-4ec5-bb24-31b696d14073'],\n",
       " 'embeddings': None,\n",
       " 'documents': ['1   +   1',\n",
       "  '2   +   3',\n",
       "  '6   x   5',\n",
       "  'W h a t   d i d   t h e   s t o n e   s a y   t o   t h e   m o o n ?',\n",
       "  'W h a t   a   g i r l   w a n t ?',\n",
       "  'H o w   t o   g e t   a   l o t   o f   g o l d ?'],\n",
       " 'uris': None,\n",
       " 'included': ['metadatas', 'documents'],\n",
       " 'data': None,\n",
       " 'metadatas': [{'output': '2', 'input': '1 + 1'},\n",
       "  {'output': '5', 'input': '2 + 3'},\n",
       "  {'input': '6 x 5', 'output': '30'},\n",
       "  {'output': 'He is singing a song like he always need her',\n",
       "   'input': 'What did the stone say to the moon?'},\n",
       "  {'output': 'There is no one size fit all', 'input': 'What a girl want?'},\n",
       "  {'input': 'How to get a lot of gold?',\n",
       "   'output': 'type .. iseedeadpeople and press Enter'}]}"
      ]
     },
     "execution_count": 26,
     "metadata": {},
     "output_type": "execute_result"
    }
   ],
   "source": [
    "vector_store.add_texts(to_vectorize, examples)\n",
    "vector_store.get()"
   ]
  },
  {
   "cell_type": "code",
   "execution_count": 32,
   "id": "e580211f",
   "metadata": {},
   "outputs": [],
   "source": [
    "from langchain_core.example_selectors import SemanticSimilarityExampleSelector\n",
    "\n",
    "example_selector = SemanticSimilarityExampleSelector(\n",
    "    vectorstore=vector_store,\n",
    "    k=2\n",
    ")"
   ]
  },
  {
   "cell_type": "code",
   "execution_count": 33,
   "id": "0087a215",
   "metadata": {},
   "outputs": [
    {
     "name": "stdout",
     "output_type": "stream",
     "text": [
      "14:04:52.098 POST 127.0.0.1/api/embed\n",
      "Human: 2 + 3\n",
      "AI: 5\n",
      "Human: 1 + 1\n",
      "AI: 2\n"
     ]
    }
   ],
   "source": [
    "few_shot_prompt = FewShotChatMessagePromptTemplate(\n",
    "    input_variables=[\"input\"],\n",
    "    example_selector=example_selector,\n",
    "    example_prompt=ChatPromptTemplate.from_messages(\n",
    "        [(\"human\", \"{input}\"), (\"ai\", \"{output}\")]\n",
    "    ),\n",
    ")\n",
    "\n",
    "print(few_shot_prompt.format(input=\"What's 3+3?\"))"
   ]
  },
  {
   "cell_type": "code",
   "execution_count": 34,
   "id": "68beff3f",
   "metadata": {},
   "outputs": [
    {
     "name": "stdout",
     "output_type": "stream",
     "text": [
      "14:04:59.981 POST 127.0.0.1/api/embed\n"
     ]
    },
    {
     "data": {
      "text/plain": [
       "[(Document(id='65622760-a30e-4e87-a4e6-2cf24886ecbb', metadata={'input': '2 + 3', 'output': '5'}, page_content='2   +   3'),\n",
       "  0.6145217203588764),\n",
       " (Document(id='478870b7-a70c-40f1-bb4a-e3cafaed92aa', metadata={'output': '2', 'input': '1 + 1'}, page_content='1   +   1'),\n",
       "  0.3894007353589096),\n",
       " (Document(id='c08b682b-3aaa-4d37-bf13-5225b86711bf', metadata={'output': '30', 'input': '6 x 5'}, page_content='6   x   5'),\n",
       "  0.27119939294792517),\n",
       " (Document(id='44f9eac0-39b3-4b8b-b2e2-11bb57008005', metadata={'output': 'There is no one size fit all', 'input': 'What a girl want?'}, page_content='W h a t   a   g i r l   w a n t ?'),\n",
       "  0.21560508665744826)]"
      ]
     },
     "execution_count": 34,
     "metadata": {},
     "output_type": "execute_result"
    }
   ],
   "source": [
    "vector_store.similarity_search_with_relevance_scores(\"What's 3+3?\")"
   ]
  },
  {
   "cell_type": "code",
   "execution_count": 35,
   "id": "62feb0d7",
   "metadata": {},
   "outputs": [
    {
     "name": "stdout",
     "output_type": "stream",
     "text": [
      "14:05:02.977 POST 127.0.0.1/api/embed\n",
      "Human: What a girl want?\n",
      "AI: There is no one size fit all\n",
      "Human: How to get a lot of gold?\n",
      "AI: type .. iseedeadpeople and press Enter\n"
     ]
    }
   ],
   "source": [
    "print(few_shot_prompt.format(input=\"What's a man want?\"))"
   ]
  },
  {
   "cell_type": "code",
   "execution_count": 36,
   "id": "169a5070",
   "metadata": {},
   "outputs": [
    {
     "name": "stdout",
     "output_type": "stream",
     "text": [
      "14:05:06.572 POST 127.0.0.1/api/embed\n"
     ]
    },
    {
     "data": {
      "text/plain": [
       "[(Document(id='44f9eac0-39b3-4b8b-b2e2-11bb57008005', metadata={'output': 'There is no one size fit all', 'input': 'What a girl want?'}, page_content='W h a t   a   g i r l   w a n t ?'),\n",
       "  0.3662080832666378),\n",
       " (Document(id='f337d8b5-e3bf-4ec5-bb24-31b696d14073', metadata={'output': 'type .. iseedeadpeople and press Enter', 'input': 'How to get a lot of gold?'}, page_content='H o w   t o   g e t   a   l o t   o f   g o l d ?'),\n",
       "  0.32241055343381464),\n",
       " (Document(id='458e37b5-5d28-45fd-8292-4a6a844c18af', metadata={'output': 'He is singing a song like he always need her', 'input': 'What did the stone say to the moon?'}, page_content='W h a t   d i d   t h e   s t o n e   s a y   t o   t h e   m o o n ?'),\n",
       "  0.3172409052891654),\n",
       " (Document(id='478870b7-a70c-40f1-bb4a-e3cafaed92aa', metadata={'input': '1 + 1', 'output': '2'}, page_content='1   +   1'),\n",
       "  0.20479366137113075)]"
      ]
     },
     "execution_count": 36,
     "metadata": {},
     "output_type": "execute_result"
    }
   ],
   "source": [
    "vector_store.similarity_search_with_relevance_scores(\"What's a man want?\")"
   ]
  },
  {
   "cell_type": "code",
   "execution_count": null,
   "id": "e995d3ce",
   "metadata": {},
   "outputs": [],
   "source": []
  }
 ],
 "metadata": {
  "kernelspec": {
   "display_name": "learnml",
   "language": "python",
   "name": "python3"
  },
  "language_info": {
   "codemirror_mode": {
    "name": "ipython",
    "version": 3
   },
   "file_extension": ".py",
   "mimetype": "text/x-python",
   "name": "python",
   "nbconvert_exporter": "python",
   "pygments_lexer": "ipython3",
   "version": "3.10.16"
  }
 },
 "nbformat": 4,
 "nbformat_minor": 5
}
