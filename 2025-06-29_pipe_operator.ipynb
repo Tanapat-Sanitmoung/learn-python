{
 "cells": [
  {
   "cell_type": "code",
   "execution_count": 1,
   "id": "f1035279",
   "metadata": {},
   "outputs": [],
   "source": [
    "from typing import Any\n",
    "\n",
    "class Pipe:\n",
    "    def __init__(self, value):\n",
    "        self.value = value\n",
    "    \n",
    "    def __or__(self, func: Any) -> Any:\n",
    "        return func(self.value)"
   ]
  },
  {
   "cell_type": "code",
   "execution_count": 2,
   "id": "5da200f4",
   "metadata": {},
   "outputs": [],
   "source": [
    "def add(a, b) -> Pipe:\n",
    "    return Pipe(a + b)"
   ]
  },
  {
   "cell_type": "code",
   "execution_count": 3,
   "id": "6916c667",
   "metadata": {},
   "outputs": [
    {
     "name": "stdout",
     "output_type": "stream",
     "text": [
      "15\n"
     ]
    }
   ],
   "source": [
    "add(5, 10) | print"
   ]
  }
 ],
 "metadata": {
  "kernelspec": {
   "display_name": "learnml",
   "language": "python",
   "name": "python3"
  },
  "language_info": {
   "codemirror_mode": {
    "name": "ipython",
    "version": 3
   },
   "file_extension": ".py",
   "mimetype": "text/x-python",
   "name": "python",
   "nbconvert_exporter": "python",
   "pygments_lexer": "ipython3",
   "version": "3.10.16"
  }
 },
 "nbformat": 4,
 "nbformat_minor": 5
}
