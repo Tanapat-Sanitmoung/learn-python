{
 "cells": [
  {
   "cell_type": "code",
   "execution_count": null,
   "id": "f1035279",
   "metadata": {},
   "outputs": [],
   "source": [
    "from typing import Any, Callable\n",
    "\n",
    "class Pipe:\n",
    "    def __init__(self, value):\n",
    "        self.value = value\n",
    "    \n",
    "    def __or__(self, func: Any) -> Any:\n",
    "        return func(self.value)"
   ]
  },
  {
   "cell_type": "code",
   "execution_count": 14,
   "id": "5da200f4",
   "metadata": {},
   "outputs": [],
   "source": [
    "def add(a, b) -> Pipe:\n",
    "    return Pipe(a + b)"
   ]
  },
  {
   "cell_type": "code",
   "execution_count": 15,
   "id": "6916c667",
   "metadata": {},
   "outputs": [
    {
     "name": "stdout",
     "output_type": "stream",
     "text": [
      "15\n"
     ]
    }
   ],
   "source": [
    "add(5, 10) | print"
   ]
  },
  {
   "cell_type": "code",
   "execution_count": 16,
   "id": "61040e59",
   "metadata": {},
   "outputs": [
    {
     "data": {
      "text/plain": [
       "(False, True)"
      ]
     },
     "execution_count": 16,
     "metadata": {},
     "output_type": "execute_result"
    }
   ],
   "source": [
    "x = 1\n",
    "\n",
    "def get_value():\n",
    "    return 2\n",
    "\n",
    "y = get_value\n",
    "\n",
    "callable(x), callable(y)"
   ]
  },
  {
   "cell_type": "code",
   "execution_count": null,
   "id": "c9840d8c",
   "metadata": {},
   "outputs": [
    {
     "name": "stdout",
     "output_type": "stream",
     "text": [
      "Hello\n",
      "True\n",
      "True\n"
     ]
    }
   ],
   "source": [
    "from typing import Any\n",
    "\n",
    "class Macus:\n",
    "    def __call__(self, *args: Any, **kwds: Any) -> Any:\n",
    "        print(\"Hello\")\n",
    "\n",
    "m = Macus()\n",
    "m()\n",
    "print(callable(m))\n",
    "print(callable(Macus))"
   ]
  }
 ],
 "metadata": {
  "kernelspec": {
   "display_name": "learnml",
   "language": "python",
   "name": "python3"
  },
  "language_info": {
   "codemirror_mode": {
    "name": "ipython",
    "version": 3
   },
   "file_extension": ".py",
   "mimetype": "text/x-python",
   "name": "python",
   "nbconvert_exporter": "python",
   "pygments_lexer": "ipython3",
   "version": "3.10.16"
  }
 },
 "nbformat": 4,
 "nbformat_minor": 5
}
