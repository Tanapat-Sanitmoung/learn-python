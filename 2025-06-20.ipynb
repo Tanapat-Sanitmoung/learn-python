{
 "cells": [
  {
   "cell_type": "code",
   "execution_count": 2,
   "id": "4200c532",
   "metadata": {},
   "outputs": [
    {
     "name": "stdout",
     "output_type": "stream",
     "text": [
      "app := learn python\n",
      "args ...\n",
      "- machine learning\n",
      "- blah blah\n",
      "kwargs ...\n",
      "- dragon := smok\n",
      "- pin := babe\n"
     ]
    }
   ],
   "source": [
    "def learn_python(app: str, *args, **kwagrs):\n",
    "    print(f\"app := {app}\")\n",
    "\n",
    "    print(\"args ...\")\n",
    "    for a in args:\n",
    "        print(f\"- {a}\")\n",
    "    \n",
    "    print(\"kwargs ...\")\n",
    "    for k, v in kwagrs.items():\n",
    "        print(f\"- {k} := {v}\")\n",
    "\n",
    "\n",
    "learn_python(\"learn python\", \"machine learning\", \"blah blah\", dragon=\"smok\", pin=\"babe\")"
   ]
  },
  {
   "cell_type": "code",
   "execution_count": 7,
   "id": "f5a5d1d8",
   "metadata": {},
   "outputs": [
    {
     "data": {
      "text/plain": [
       "map"
      ]
     },
     "execution_count": 7,
     "metadata": {},
     "output_type": "execute_result"
    }
   ],
   "source": [
    "numbers = [1, 2, 3, 4, 5]\n",
    "\n",
    "map_numbers = map(lambda x: x * x, numbers)\n",
    "\n",
    "type(map_numbers)"
   ]
  },
  {
   "cell_type": "code",
   "execution_count": 8,
   "id": "70f6a03f",
   "metadata": {},
   "outputs": [
    {
     "data": {
      "text/plain": [
       "<map at 0x1079567a0>"
      ]
     },
     "execution_count": 8,
     "metadata": {},
     "output_type": "execute_result"
    }
   ],
   "source": [
    "map_numbers"
   ]
  },
  {
   "cell_type": "code",
   "execution_count": 10,
   "id": "99811603",
   "metadata": {},
   "outputs": [],
   "source": [
    "map_numbers = list(map_numbers)"
   ]
  },
  {
   "cell_type": "code",
   "execution_count": 11,
   "id": "d7b8ecc1",
   "metadata": {},
   "outputs": [
    {
     "data": {
      "text/plain": [
       "[1, 4, 9, 16, 25]"
      ]
     },
     "execution_count": 11,
     "metadata": {},
     "output_type": "execute_result"
    }
   ],
   "source": [
    "map_numbers"
   ]
  },
  {
   "cell_type": "code",
   "execution_count": 14,
   "id": "76a12bc1",
   "metadata": {},
   "outputs": [
    {
     "name": "stdout",
     "output_type": "stream",
     "text": [
      "Hi, Elon\n",
      "Hi, Smok\n"
     ]
    }
   ],
   "source": [
    "from typing import Any\n",
    "\n",
    "\n",
    "class YOLO:\n",
    "    def __init__(self):\n",
    "        self.greeting = \"Hi, {name}\"\n",
    "    \n",
    "    def __call__(self, *args: Any, **kwds: Any) -> Any:\n",
    "        self.greet(args[0])\n",
    "\n",
    "    def greet(self, person_name: str):\n",
    "        print(self.greeting.format(name=person_name))\n",
    "\n",
    "albert = YOLO()\n",
    "albert(\"Elon\")\n",
    "albert.greet(\"Smok\")"
   ]
  },
  {
   "cell_type": "code",
   "execution_count": 20,
   "id": "f9f14ddc",
   "metadata": {},
   "outputs": [
    {
     "name": "stdout",
     "output_type": "stream",
     "text": [
      "1 2 3 4\n",
      "['1', '2', '3', '4']\n"
     ]
    }
   ],
   "source": [
    "nums = [\"1\", \"2\", \"3\", \"4\"]\n",
    "\n",
    "print(*nums)\n",
    "print(nums)"
   ]
  }
 ],
 "metadata": {
  "kernelspec": {
   "display_name": "learnml",
   "language": "python",
   "name": "python3"
  },
  "language_info": {
   "codemirror_mode": {
    "name": "ipython",
    "version": 3
   },
   "file_extension": ".py",
   "mimetype": "text/x-python",
   "name": "python",
   "nbconvert_exporter": "python",
   "pygments_lexer": "ipython3",
   "version": "3.10.16"
  }
 },
 "nbformat": 4,
 "nbformat_minor": 5
}
